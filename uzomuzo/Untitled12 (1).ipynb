{
 "cells": [
  {
   "cell_type": "code",
   "execution_count": 1,
   "metadata": {
    "collapsed": true
   },
   "outputs": [],
   "source": [
    "import numpy\n",
    "import scipy.special\n",
    "import matplotlib.pyplot\n",
    "%matplotlib inline\n",
    "class neuralNetwork:\n",
    "    #ニューラルネットワークの初期化\n",
    "    def __init__(self,inputnodes,hiddennodes,outputnodes,learningrate):\n",
    "        #入力層，隠れ層，出力層のノード数の設定\n",
    "        self.inodes = inputnodes\n",
    "        self.hnodes = hiddennodes\n",
    "        self.onodes = outputnodes\n",
    "        #リンクの重み行列\n",
    "        #行列の重みw_i_j,ノードiから次の層のノードjへのリンクの重み\n",
    "        self.wih = numpy.random.normal(0.0,pow(self.hnodes,-0.5),(self.hnodes,self.inodes))\n",
    "        self.who = numpy.random.normal(0.0,pow(self.onodes,-0.5),(self.onodes,self.hnodes))\n",
    "        #学習率の設定\n",
    "        self.lr = learningrate\n",
    "        #活性化関数はシグモイド関数\n",
    "        #lambdaは簡単な関数，xを入力としてシグモイド関数の値であるscipy.special.expit(x)を返す\n",
    "        self.activation_function = lambda x:scipy.special.expit(x)\n",
    "        pass\n",
    "    #学習\n",
    "    def train(self,inputs_list,targets_list):\n",
    "        # 入力リストを行列に変換\n",
    "        inputs = numpy.array(inputs_list, ndmin=2).T\n",
    "        targets = numpy.array(targets_list, ndmin=2).T\n",
    "        \n",
    "        # 隠れ層に入ってくる信号の計算\n",
    "        hidden_inputs = numpy.dot(self.wih, inputs)\n",
    "        # 隠れ層で結合された信号を活性化関数により出力\n",
    "        hidden_outputs = self.activation_function(hidden_inputs)\n",
    "        \n",
    "        #出力層に入ってくる信号の計算\n",
    "        final_inputs = numpy.dot(self.who, hidden_outputs)\n",
    "        # 出力層で結合された信号を活性化関数により出力\n",
    "        final_outputs = self.activation_function(final_inputs)\n",
    "        #出力層の誤差 = (目標出力 - 最終出力)\n",
    "        output_errors = targets - final_outputs\n",
    "        #隠れ層の誤差は出力層の誤差をリンクの重みを更新\n",
    "        hidden_errors = numpy.dot(self.who.T, output_errors) \n",
    "\n",
    "        #隠れ層と出力層の間のリンクの重みを更新\n",
    "        self.who += self.lr * numpy.dot((output_errors * final_outputs * (1.0 - final_outputs)), numpy.transpose(hidden_outputs))\n",
    "        \n",
    "        \n",
    "        #入力層と隠れ層の間のリンクの重みを更新\n",
    "        self.wih += self.lr * numpy.dot((hidden_errors * hidden_outputs * (1.0 - hidden_outputs)), numpy.transpose(inputs))\n",
    "        \n",
    "        pass\n",
    "    #照会\n",
    "    def query(self,inputs_list ):\n",
    "        #入力リストを行列に変換\n",
    "        inputs = numpy.array(inputs_list,ndmin=2).T\n",
    "        #隠れ層に入ってくる信号の計算\n",
    "        hidden_inputs = numpy.dot(self.wih,inputs)\n",
    "        #隠れ層で結合された信号を活性化関数により出力\n",
    "        hidden_outputs = self.activation_function(hidden_inputs)\n",
    "        \n",
    "        #出力層に入ってくる信号の計算\n",
    "        final_inputs = numpy.dot(self.who,hidden_outputs)\n",
    "        #出力層で結合された信号を活性化関数により出力\n",
    "        final_outputs = self.activation_function(final_inputs)\n",
    "        \n",
    "        return final_outputs\n",
    "        pass"
   ]
  },
  {
   "cell_type": "code",
   "execution_count": null,
   "metadata": {
    "collapsed": true
   },
   "outputs": [],
   "source": []
  }
 ],
 "metadata": {
  "kernelspec": {
   "display_name": "Python 3",
   "language": "python",
   "name": "python3"
  },
  "language_info": {
   "codemirror_mode": {
    "name": "ipython",
    "version": 3
   },
   "file_extension": ".py",
   "mimetype": "text/x-python",
   "name": "python",
   "nbconvert_exporter": "python",
   "pygments_lexer": "ipython3",
   "version": "3.6.1"
  }
 },
 "nbformat": 4,
 "nbformat_minor": 2
}
